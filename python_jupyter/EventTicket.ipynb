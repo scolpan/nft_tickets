{
 "cells": [
  {
   "cell_type": "code",
   "execution_count": 1,
   "metadata": {},
   "outputs": [],
   "source": [
    "from ticket import convertDataToJSON, pinJSONtoIPFS, initContract, w3\n",
    "from pprint import pprint"
   ]
  },
  {
   "cell_type": "code",
   "execution_count": 2,
   "metadata": {},
   "outputs": [],
   "source": [
    "ticket = initContract()"
   ]
  },
  {
   "cell_type": "code",
   "execution_count": 3,
   "metadata": {},
   "outputs": [],
   "source": [
    "def createTicketRegistration():\n",
    "    time = input(\"Date of Event: \")\n",
    "    description = input(\"Description of Event: \")\n",
    "    token_id = int(input(\"Token ID: \"))\n",
    "    json_data = convertDataToJSON(time, description)\n",
    "    report_uri = pinJSONtoIPFS(json_data)\n",
    "    return token_id, report_uri"
   ]
  },
  {
   "cell_type": "code",
   "execution_count": 4,
   "metadata": {},
   "outputs": [],
   "source": [
    "def ticketRegister(token_uri):\n",
    "    tx_hash = ticket.functions.ticketRegister(token_uri).transact(\n",
    "    {\"from\": w3.eth.accounts[0]}\n",
    "    )\n",
    "    receipt = w3.eth.waitForTransactionReceipt(tx_hash)\n",
    "    return receipt"
   ]
  },
  {
   "cell_type": "code",
   "execution_count": 5,
   "metadata": {},
   "outputs": [],
   "source": [
    "def getTicketRegistration(token_id):\n",
    "    ticket_filter = ticket.events.Sale.createFilter(\n",
    "    fromBlock=\"0x0\", argument_filters={\"token_id\": token_id}\n",
    "    )\n",
    "    return ticket_filter.get_all_entries()"
   ]
  },
  {
   "cell_type": "code",
   "execution_count": 7,
   "metadata": {},
   "outputs": [
    {
     "name": "stdin",
     "output_type": "stream",
     "text": [
      "Date of Event:  August 3\n",
      "Description of Event:  Concert\n",
      "Token ID:  1\n"
     ]
    },
    {
     "name": "stdout",
     "output_type": "stream",
     "text": [
      "AttributeDict({'transactionHash': HexBytes('0xc1e4bb1d55ea8e5dd58d17695e7d9bae8fe0f166022e4f069a80ebe88f6ad4da'), 'transactionIndex': 0, 'blockHash': HexBytes('0x92cad29df8e4652f674237f519ff34272f8a983100ceae57e80e92f027da2e7b'), 'blockNumber': 41, 'from': '0x714EC318d6F66c6A7065565140f73cD12DcFf9C3', 'to': '0xa8075E64df168EDda3f196e552E8Ac40F209CE8A', 'gasUsed': 22520, 'cumulativeGasUsed': 22520, 'contractAddress': None, 'logs': [], 'status': 1, 'logsBloom': HexBytes('0x00000000000000000000000000000000000000000000000000000000000000000000000000000000000000000000000000000000000000000000000000000000000000000000000000000000000000000000000000000000000000000000000000000000000000000000000000000000000000000000000000000000000000000000000000000000000000000000000000000000000000000000000000000000000000000000000000000000000000000000000000000000000000000000000000000000000000000000000000000000000000000000000000000000000000000000000000000000000000000000000000000000000000000000000000000000')})\n",
      "Report IPFS Hash: ipfs://bafkreig25qfzfdglm3wx553fdvnnorykxiivbuuolskt3c5ijexvbfs4yi\n"
     ]
    }
   ],
   "source": [
    "def main():\n",
    "    token_id, token_uri = createTicketRegistration()\n",
    "    receipt = ticketRegister(token_uri)\n",
    "    pprint(receipt)\n",
    "    print(\"Report IPFS Hash:\", token_uri)\n",
    "main()"
   ]
  },
  {
   "cell_type": "code",
   "execution_count": null,
   "metadata": {},
   "outputs": [],
   "source": []
  },
  {
   "cell_type": "code",
   "execution_count": null,
   "metadata": {},
   "outputs": [],
   "source": []
  }
 ],
 "metadata": {
  "kernelspec": {
   "display_name": "Python 3",
   "language": "python",
   "name": "python3"
  },
  "language_info": {
   "codemirror_mode": {
    "name": "ipython",
    "version": 3
   },
   "file_extension": ".py",
   "mimetype": "text/x-python",
   "name": "python",
   "nbconvert_exporter": "python",
   "pygments_lexer": "ipython3",
   "version": "3.7.9"
  }
 },
 "nbformat": 4,
 "nbformat_minor": 4
}
